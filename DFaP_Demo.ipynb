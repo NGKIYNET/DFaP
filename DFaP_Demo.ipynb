{
  "cells": [
    {
      "cell_type": "markdown",
      "metadata": {
        "id": "2SzK-3AdT9yJ"
      },
      "source": [
        "# DFaP Effect Demonstration"
      ]
    },
    {
      "cell_type": "markdown",
      "metadata": {
        "id": "GhB_7421CP6u"
      },
      "source": [
        "## Related Functions"
      ]
    },
    {
      "cell_type": "code",
      "execution_count": null,
      "metadata": {
        "id": "BG9xTsS1CKvE"
      },
      "outputs": [],
      "source": [
        "import os\n",
        "import sys\n",
        "import torch\n",
        "from torchvision import transforms, utils\n",
        "import torch.utils.data as Data\n",
        "from torch.utils.data import Dataset, DataLoader\n",
        "from torchvision import datasets\n",
        "from torch.nn import functional as F \n",
        "from torch.autograd import Variable\n",
        "from torch import nn, optim\n",
        "from models import ResNet.ResNet34 as ResNet34\n",
        "import matplotlib.pyplot as plt\n",
        "from PIL import Image\n",
        "import cv2\n",
        "import numpy as np\n",
        "from math import exp\n",
        "import shutil\n",
        "import warnings\n",
        "\n",
        "\n",
        "warnings.filterwarnings('ignore')\n",
        "BATCH_SIZE = 50\n",
        " \n",
        "def show_batch(imgs):\n",
        "    grid = utils.make_grid(imgs,nrow=10)\n",
        "    plt.imshow(grid.numpy().transpose((1, 2, 0)))\n",
        "    plt.title('Batch from dataloader')\n",
        "\n",
        "def default_loader(path):\n",
        "    img = Image.open(path).convert('RGB')\n",
        "    img = img.resize((32, 32))\n",
        "    return img\n",
        "\n",
        "\n",
        "class MyDataset(Dataset):\n",
        "    def __init__(self, txt, transform=None, target_transform=None, loader=default_loader):\n",
        "        fh = open(txt, 'r')\n",
        "        imgs = []\n",
        "        for line in fh:\n",
        "            line = line.strip('\\n')\n",
        "            line = line.rstrip()\n",
        "            words = line.split()\n",
        "            imgs.append((words[0], int(words[1])))\n",
        "        self.imgs = imgs\n",
        "        self.transform = transform\n",
        "        self.target_transform = target_transform\n",
        "        self.loader = loader\n",
        "\n",
        "    def __getitem__(self, index):\n",
        "        fn, label = self.imgs[index]\n",
        "        img = self.loader(fn)\n",
        "        if self.transform is not None:\n",
        "            img = self.transform(img)\n",
        "        return img, label\n",
        "\n",
        "    def __len__(self):\n",
        "        return len(self.imgs)\n"
      ]
    },
    {
      "cell_type": "code",
      "execution_count": null,
      "metadata": {
        "id": "mhfCbVvyWEsU"
      },
      "outputs": [],
      "source": [
        "'''\n",
        "CAM Filtering and Erasure.\n",
        "'''\n",
        "def show_weight(weight_n):\n",
        "    score = [[] for a in range(weight_n.shape[1])]\n",
        "    for j in range(weight_n.shape[1]):\n",
        "        filter_count = {}\n",
        "        for i in range(256):\n",
        "            filter_count[i] = weight_n[i][j]\n",
        "        list1 = sorted(filter_count.items(), key=lambda x: x[1], reverse=True)\n",
        "        x = []\n",
        "        y = []\n",
        "        for i in range(100):\n",
        "            x.append(list1[i][0])\n",
        "            y.append(list1[i][1])\n",
        "            score[j].append(list1[i][0])\n",
        "    return score\n",
        "\n",
        "def getCAMdata(path, label, model): \n",
        "    true_label = label\n",
        "    data = MyDataset(txt=path, \n",
        "              transform=transforms.Compose([\n",
        "                transforms.Resize([32,32]),\n",
        "                transforms.ToTensor(),\n",
        "                transforms.Normalize((0.5,0.5,0.5),(0.5,0.5,0.5))])\n",
        "              )\n",
        "\n",
        "    loader = DataLoader(data, batch_size=50, shuffle=False)\n",
        "    pred = np.array([])\n",
        "    y_sum = np.array([])\n",
        "    feature = []\n",
        "    model = model.eval()\n",
        "    with torch.no_grad():\n",
        "        running_correct = 0\n",
        "        total = 0\n",
        "        for i, (x, label) in enumerate(loader):\n",
        "            if i == 0:\n",
        "              x_raw = x.numpy()\n",
        "              y_raw = label.numpy()\n",
        "            else:\n",
        "              x_raw = np.append(x_raw,x.numpy(),axis=0)\n",
        "              y_raw = np.append(y_raw,label.numpy(),axis=0)\n",
        "            data = x\n",
        "            data = data.cuda()\n",
        "            \n",
        "            y_label = label\n",
        "            y_label = y_label.type(torch.LongTensor)\n",
        "            y_label = y_label.cuda()\n",
        "            output, attack_feature = model(data)\n",
        "            _, predicted = torch.max(output.data, 1)                            \n",
        "            total = total + y_label.size(0)\n",
        "            running_correct = running_correct + (predicted == y_label).sum()\n",
        "            predicted = predicted.cpu().numpy()\n",
        "            pred = np.append(pred, predicted)\n",
        "            y_sum = np.append(y_sum,y_label.cpu().numpy())\n",
        "            for i in range(len(attack_feature)):                                 \n",
        "                attack_feature[i] = attack_feature[i].detach().numpy() \n",
        "            feature.append(attack_feature[-1]) \n",
        "    attack_feature = feature[0]\n",
        "    for i in range(len(feature)):\n",
        "      if i != 0:\n",
        "        attack_feature = np.concatenate((attack_feature,feature[i]),axis=0)\n",
        "    pred = list(pred)\n",
        "    err_num = []\n",
        "    for i in range(len(pred)):\n",
        "      if pred[i] != true_label:\n",
        "        err_num.append(i)\n",
        "    return x_raw, y_raw, attack_feature, err_num\n",
        "\n",
        "def getdetails_percent(feature, weight_n, ori_f, mylabel, path, save_filepath, erase_method, percent,target_label=False):\n",
        "    res_details = [] \n",
        "    res_details_act = []\n",
        "    res_derails_act_cam = []\n",
        "    maskes = []\n",
        "    maskes_lowWeight = []\n",
        "    file_names = []\n",
        "    with open(path, \"r\") as f:\n",
        "      for line in f.readlines():\n",
        "        line = line.strip('\\n')[:-2] \n",
        "        file_names.append(line)\n",
        "\n",
        "    for i in range(feature.shape[0]):\n",
        "        temp = np.zeros([feature.shape[2], feature.shape[3]])\n",
        "        for j in range(feature.shape[1]):\n",
        "            temp = temp + weight_n[j][int(mylabel[i])] * feature[i][j]\n",
        "        temp_ori = cv2.resize(temp, (32, 32), interpolation=cv2.INTER_LINEAR)\n",
        "        temp_ori_copy = temp_ori \n",
        "        res_details_act.append(temp_ori)\n",
        "        mmax = np.max(temp_ori)\n",
        "        th = mmax * percent\n",
        "        mmin = np.min(temp_ori)\n",
        "        th_low = mmin *1.5\n",
        "        temp_ori = np.where(temp_ori >= th, 1, 0)\n",
        "        f_details = temp_ori * ori_f[i]\n",
        "        res_details.append(f_details)\n",
        "        maskes.append(temp_ori)\n",
        "        temp_ori_lowweight = np.where(temp_ori_copy <= th_low, 1, 0)\n",
        "        maskes_lowWeight.append(temp_ori_lowweight)\n",
        "   \n",
        "\n",
        "    for i in range(len(res_details_act)):\n",
        "      cam = (res_details_act[i] - res_details_act[i].min()) / (res_details_act[i].max() - res_details_act[i].min())\n",
        "      cam = cam*255\n",
        "      cam = cam.astype(np.uint8)\n",
        "      heatmap = cv2.applyColorMap(cam, cv2.COLORMAP_JET)\n",
        "      if target_label:\n",
        "        trans_ori_f = cv2.imread(file_names[i])\n",
        "      else:\n",
        "        trans_ori_f = cv2.imread(file_names[i])\n",
        "      trans_ori_f = cv2.resize(trans_ori_f, (32, 32), interpolation=cv2.INTER_LINEAR)\n",
        "      cover_pic = trans_ori_f\n",
        "      lowWeight_pixel = []\n",
        "    \n",
        "\n",
        "      if erase_method == 'low_weight_erase':\n",
        "        for k in range(len(maskes_lowWeight[i])):  \n",
        "          for j in range(len(maskes_lowWeight[i][k])):\n",
        "            if maskes_lowWeight[i][k][j] == 1:\n",
        "              lowWeight_pixel.append(cover_pic[k][j])\n",
        "        cnt = 0\n",
        "        for k in range(len(maskes[i])): \n",
        "          for j in range(len(maskes[i][k])):\n",
        "            if maskes[i][k][j] == 1:\n",
        "              cover_pic[k][j] = lowWeight_pixel[cnt]\n",
        "              cnt = (cnt+1)%len(lowWeight_pixel)\n",
        "\n",
        "      if erase_method == 'black_erase':\n",
        "        for k in range(len(maskes[i])):  #(32,32)\n",
        "          for j in range(len(maskes[i][k])):\n",
        "            if maskes[i][k][j] == 1:\n",
        "              cover_pic[k][j] = cover_pic[k][j] * 0\n",
        "\n",
        "      if erase_method == 'repair':\n",
        "        repair_mask = np.where(maskes[i] >= 1,255,0)\n",
        "        repair_mask = repair_mask.astype(np.uint8)\n",
        "        cover_pic = cv2.inpaint(trans_ori_f, repair_mask, 3, cv2.INPAINT_TELEA)\n",
        "\n",
        "      cv2.imwrite(save_filepath+str(i)+'.png', cover_pic)\n",
        "      heatmap[np.where(cam <= 50)] = 0\n",
        "      out = cv2.addWeighted(src1=trans_ori_f, alpha=0.8, src2=heatmap, beta=0.4, gamma=0)\n",
        "      out = out.transpose((2,0,1))\n",
        "      res_derails_act_cam.append(out)\n",
        "    return np.array(res_details), np.array(res_details_act),np.array(res_derails_act_cam)\n",
        "\n",
        "def network_dissection(feature):  \n",
        "    print(feature.shape)                                  \n",
        "    length = feature.shape[0]\n",
        "    channel = feature.shape[1]\n",
        "    filter = [[] for a in range(length)]                    \n",
        "    for i in range(length):\n",
        "        for j in range(channel): \n",
        "            sum = 0\n",
        "            for m in range(feature.shape[2]):\n",
        "                for n in range(feature.shape[3]):\n",
        "                    sum = sum + feature[i][j][m][n]\n",
        "            filter[i].append(sum)\n",
        "    return filter"
      ]
    },
    {
      "cell_type": "code",
      "execution_count": null,
      "metadata": {
        "id": "ziVyr27xCcF7"
      },
      "outputs": [],
      "source": [
        "'''\n",
        "AutoEncoder Model.\n",
        "'''\n",
        "class AE(nn.Module):\n",
        "\n",
        "    def __init__(self):\n",
        "        super(AE, self).__init__()\n",
        "        self.encoder = nn.Sequential(\n",
        "            nn.Linear(3072, 2700),\n",
        "            nn.ReLU(),\n",
        "        )\n",
        "        self.decoder = nn.Sequential(\n",
        "            nn.Linear(2700, 3072),\n",
        "            nn.Sigmoid()\n",
        "        )\n",
        "\n",
        "    def forward(self, x):\n",
        "        batchsz = x.size(0)\n",
        "        x = x.view(batchsz, 3072)\n",
        "        x = self.encoder(x)\n",
        "        x = self.decoder(x)\n",
        "        x = x.view(batchsz, 3, 32, 32)\n",
        "        return x"
      ]
    },
    {
      "cell_type": "code",
      "execution_count": null,
      "metadata": {
        "id": "dQMAzYoZCkYh"
      },
      "outputs": [],
      "source": [
        "'''\n",
        "UNet Model.\n",
        "'''\n",
        "class DoubleConv(nn.Module):\n",
        " \n",
        "    def __init__(self, in_channels, out_channels):\n",
        "        super().__init__()\n",
        "        self.double_conv = nn.Sequential(\n",
        "            nn.Conv2d(in_channels, out_channels, kernel_size=3, padding=1),\n",
        "            nn.BatchNorm2d(out_channels),\n",
        "            nn.ReLU(inplace=True),\n",
        "            nn.Conv2d(out_channels, out_channels, kernel_size=3, padding=1),\n",
        "            nn.BatchNorm2d(out_channels),\n",
        "            nn.ReLU(inplace=True)\n",
        "        )\n",
        " \n",
        "    def forward(self, x):\n",
        "        return self.double_conv(x)\n",
        " \n",
        "class Down(nn.Module):\n",
        " \n",
        "    def __init__(self, in_channels, out_channels):\n",
        "        super().__init__()\n",
        "        self.maxpool_conv = nn.Sequential(\n",
        "            nn.MaxPool2d(2),\n",
        "            DoubleConv(in_channels, out_channels)\n",
        "        ) \n",
        "    def forward(self, x):\n",
        "        return self.maxpool_conv(x)\n",
        " \n",
        "class Up(nn.Module):\n",
        "    def __init__(self, in_channels, out_channels, bilinear=True):\n",
        "    super().__init__()\n",
        "    if bilinear:\n",
        "        self.up = nn.Upsample(scale_factor=2, mode='bilinear', align_corners=True)\n",
        "    else:\n",
        "        self.up = nn.ConvTranspose2d(in_channels // 2, in_channels // 2, kernel_size=2, stride=2)\n",
        "    self.conv = DoubleConv(in_channels, out_channels)\n",
        " \n",
        " \n",
        "    def forward(self, x1, x2, is_concat = True):\n",
        "        x1 = self.up(x1)\n",
        "        diffY = torch.tensor([x2.size()[2] - x1.size()[2]])\n",
        "        diffX = torch.tensor([x2.size()[3] - x1.size()[3]]) \n",
        "        x1 = F.pad(x1, [diffX // 2, diffX - diffX // 2,\n",
        "                        diffY // 2, diffY - diffY // 2])\n",
        "        if is_concat == True:\n",
        "          x = torch.cat([x2, x1], dim=1)\n",
        "        else:\n",
        "          x = x1\n",
        "        return self.conv(x)\n",
        " \n",
        "class OutConv(nn.Module):\n",
        "    def __init__(self, in_channels, out_channels):\n",
        "        super(OutConv, self).__init__()\n",
        "        self.conv = nn.Conv2d(in_channels, out_channels, kernel_size=1)\n",
        " \n",
        " \n",
        "    def forward(self, x):\n",
        "        return self.conv(x)\n",
        "\n",
        "class UNet(nn.Module):\n",
        "    def __init__(self, n_channels, n_classes, bilinear=True):\n",
        "        super(UNet, self).__init__()\n",
        "        self.n_channels = n_channels\n",
        "        self.n_classes = n_classes\n",
        "        self.bilinear = bilinear\n",
        " \n",
        "        self.inc = DoubleConv(n_channels, 64)\n",
        "        self.down1 = Down(64, 128)\n",
        "        self.down2 = Down(128, 256)\n",
        "        self.down3 = Down(256, 512)\n",
        "        self.down4 = Down(512, 512)\n",
        "        self.up1 = Up(1024, 256, bilinear)\n",
        "        self.up2 = Up(512, 128, bilinear)\n",
        "        self.up3 = Up(256, 64, bilinear)\n",
        "        self.up4 = Up(128, 64, bilinear)\n",
        "        self.outc = OutConv(64, n_classes)\n",
        " \n",
        "    def forward(self, x):\n",
        "        x1 = self.inc(x)\n",
        "        x2 = self.down1(x1)\n",
        "        x3 = self.down2(x2)\n",
        "        x4 = self.down3(x3)\n",
        "        x5 = self.down4(x4)\n",
        "        x = self.up1(x5, x4,)\n",
        "        x = self.up2(x, x3)\n",
        "        x = self.up3(x, x2)\n",
        "        x = self.up4(x, x1)\n",
        "        logits = self.outc(x)\n",
        "        return logits"
      ]
    },
    {
      "cell_type": "code",
      "execution_count": null,
      "metadata": {
        "id": "MHbNs1KxCv1z"
      },
      "outputs": [],
      "source": [
        "'''\n",
        "MS-SSIM Loss Function.\n",
        "'''\n",
        "def gaussian(window_size, sigma):\n",
        "    gauss = torch.Tensor([exp(-(x - window_size//2)**2/float(2*sigma**2)) for x in range(window_size)])\n",
        "    return gauss/gauss.sum()\n",
        "\n",
        "def create_window(window_size, sigma, channel):\n",
        "    _1D_window = gaussian(window_size, sigma).unsqueeze(1)\n",
        "    _2D_window = _1D_window.mm(_1D_window.t()).float().unsqueeze(0).unsqueeze(0)\n",
        "    window = Variable(_2D_window.expand(channel, 1, window_size, window_size).contiguous())\n",
        "    return window\n",
        "\n",
        "class MS_SSIM(torch.nn.Module):\n",
        "    def __init__(self, size_average = True, max_val = 255):\n",
        "        super(MS_SSIM, self).__init__()\n",
        "        self.size_average = size_average\n",
        "        self.channel = 3\n",
        "        self.max_val = max_val\n",
        "    def _ssim(self, img1, img2, size_average = True):\n",
        "\n",
        "        _, c, w, h = img1.size()\n",
        "        window_size = min(w, h, 11)\n",
        "        sigma = 1.5 * window_size / 11\n",
        "        window = create_window(window_size, sigma, self.channel).cuda()\n",
        "        mu1 = F.conv2d(img1, window, padding = window_size//2, groups = self.channel)\n",
        "        mu2 = F.conv2d(img2, window, padding = window_size//2, groups = self.channel)\n",
        "\n",
        "        mu1_sq = mu1.pow(2)\n",
        "        mu2_sq = mu2.pow(2)\n",
        "        mu1_mu2 = mu1*mu2\n",
        "\n",
        "        sigma1_sq = F.conv2d(img1*img1, window, padding = window_size//2, groups = self.channel) - mu1_sq\n",
        "        sigma2_sq = F.conv2d(img2*img2, window, padding = window_size//2, groups = self.channel) - mu2_sq\n",
        "        sigma12 = F.conv2d(img1*img2, window, padding = window_size//2, groups = self.channel) - mu1_mu2\n",
        "\n",
        "        C1 = (0.01*self.max_val)**2\n",
        "        C2 = (0.03*self.max_val)**2\n",
        "        V1 = 2.0 * sigma12 + C2\n",
        "        V2 = sigma1_sq + sigma2_sq + C2\n",
        "        ssim_map = ((2*mu1_mu2 + C1)*V1)/((mu1_sq + mu2_sq + C1)*V2)\n",
        "        mcs_map = V1 / V2\n",
        "        if size_average:\n",
        "            return ssim_map.mean(), mcs_map.mean()\n",
        "\n",
        "    def ms_ssim(self, img1, img2, levels=5):\n",
        "\n",
        "        weight = Variable(torch.Tensor([0.0448, 0.2856, 0.3001, 0.2363, 0.1333]).cuda())\n",
        "\n",
        "        msssim = Variable(torch.Tensor(levels,).cuda())\n",
        "        mcs = Variable(torch.Tensor(levels,).cuda())\n",
        "        for i in range(levels):\n",
        "            ssim_map, mcs_map = self._ssim(img1, img2)\n",
        "            msssim[i] = ssim_map\n",
        "            mcs[i] = mcs_map\n",
        "            filtered_im1 = F.avg_pool2d(img1, kernel_size=2, stride=2)\n",
        "            filtered_im2 = F.avg_pool2d(img2, kernel_size=2, stride=2)\n",
        "            img1 = filtered_im1\n",
        "            img2 = filtered_im2\n",
        "\n",
        "        value = (torch.prod(mcs[0:levels-1]**weight[0:levels-1])*\n",
        "                                    (msssim[levels-1]**weight[levels-1]))\n",
        "        return value\n",
        "\n",
        "\n",
        "    def forward(self, img1, img2):\n",
        "\n",
        "        return self.ms_ssim(img1, img2)"
      ]
    },
    {
      "cell_type": "markdown",
      "metadata": {},
      "source": [
        "## Sample Examples"
      ]
    },
    {
      "cell_type": "code",
      "execution_count": null,
      "metadata": {
        "colab": {
          "base_uri": "https://localhost:8080/",
          "height": 530
        },
        "id": "vWhi65f-Cz_T",
        "outputId": "50ea368a-a971-400a-d84b-8e79d95922d6"
      },
      "outputs": [
        {
          "name": "stdout",
          "output_type": "stream",
          "text": [
            "Backdoor Sample Example:\n"
          ]
        },
        {
          "data": {
            "image/png": "[encoded data removed]",
            "text/plain": [
              "<Figure size 432x288 with 1 Axes>"
            ]
          },
          "metadata": {
            "needs_background": "light"
          },
          "output_type": "display_data"
        },
        {
          "name": "stdout",
          "output_type": "stream",
          "text": [
            "\n",
            "Clean Sample Example:\n"
          ]
        },
        {
          "data": {
            "image/png": "[encoded data removed]",
            "text/plain": [
              "<Figure size 432x288 with 1 Axes>"
            ]
          },
          "metadata": {
            "needs_background": "light"
          },
          "output_type": "display_data"
        }
      ],
      "source": [
        "print('Backdoor Sample Example:')\n",
        "path = \"./10_dataset/bk_data/1.png\"\n",
        "img = Image.open(path).convert('RGB')\n",
        "img = img.resize((32 ,32))\n",
        "fig, ax=plt.subplots()\n",
        "ax.spines['top'].set_visible(False)\n",
        "ax.spines['right'].set_visible(False)\n",
        "ax.spines['bottom'].set_visible(False)\n",
        "ax.spines['left'].set_visible(False)\n",
        "plt.axis('off')\n",
        "plt.imshow(img)\n",
        "plt.show()\n",
        "\n",
        "print('\\nClean Sample Example:')\n",
        "path = './cifar10_dataset/train/0/aeroplane_s_000004.png'\n",
        "img = Image.open(path).convert('RGB')\n",
        "img = img.resize((32 ,32))\n",
        "fig, ax=plt.subplots()\n",
        "ax.spines['top'].set_visible(False)\n",
        "ax.spines['right'].set_visible(False)\n",
        "ax.spines['bottom'].set_visible(False)\n",
        "ax.spines['left'].set_visible(False)\n",
        "plt.axis('off')\n",
        "plt.imshow(img)\n",
        "plt.show()"
      ]
    },
    {
      "cell_type": "markdown",
      "metadata": {
        "id": "K4GAX4SXEJEF"
      },
      "source": [
        "## Setting"
      ]
    },
    {
      "cell_type": "code",
      "execution_count": null,
      "metadata": {
        "id": "IkQaxlN34AqV"
      },
      "outputs": [],
      "source": [
        "'''\n",
        "cover_dest_directory : Directory for storing samples after erasure and repair;\n",
        "final_dest_directory : Directory for storing samples after DFaP;\n",
        "model_addr : Address of Infected model;\n",
        "threshold : Erasure repair threshold;\n",
        "AE_threshold : Reselection mechanism threshold;\n",
        "erase_method_choice : Erasure repair method(TELEA);\n",
        "target_label : Backdoor attack target label;\n",
        "total_TAR : For statistical TAR.\n",
        "'''\n",
        "\n",
        "cover_dest_directory = \"./cover_data/\"\n",
        "final_dest_directory = \"./DFaP_Cifar10_After_Repair\"\n",
        "os.mkdir('./DFaP_Cifar10_After_Repair') \n",
        "os.mkdir('./cover_data') \n",
        "model_addr = \"./models/cifar10_pattern_Augment10%.pkl\"\n",
        "threshold = 0.5\n",
        "AE_threshold = 0.03\n",
        "erase_method_choice = 'repair'\n",
        "target_label = 1\n",
        "total_TAR = 0"
      ]
    },
    {
      "cell_type": "markdown",
      "metadata": {
        "id": "rBMZ21OsUPhZ"
      },
      "source": [
        "## Backdoor samples filtering and purification effect"
      ]
    },
    {
      "cell_type": "code",
      "execution_count": null,
      "metadata": {
        "colab": {
          "base_uri": "https://localhost:8080/",
          "height": 901
        },
        "id": "vq1y5XoAINrv",
        "outputId": "fb55832c-034e-4325-bcdb-e2e637fb4e07"
      },
      "outputs": [
        {
          "name": "stdout",
          "output_type": "stream",
          "text": [
            "BK Sample Example:\n"
          ]
        },
        {
          "data": {
            "image/png": "[encoded data removed]",
            "text/plain": [
              "<Figure size 432x288 with 1 Axes>"
            ]
          },
          "metadata": {
            "needs_background": "light"
          },
          "output_type": "display_data"
        },
        {
          "name": "stdout",
          "output_type": "stream",
          "text": [
            "----------\n",
            "\n",
            "BK Erasure Repair Sample Example:\n"
          ]
        },
        {
          "data": {
            "image/png": "[encoded data removed]",
            "text/plain": [
              "<Figure size 432x288 with 1 Axes>"
            ]
          },
          "metadata": {
            "needs_background": "light"
          },
          "output_type": "display_data"
        },
        {
          "name": "stdout",
          "output_type": "stream",
          "text": [
            "----------\n",
            "\n",
            "\n",
            "BK FAR：0.000000%\n",
            "----------\n",
            "\n",
            "BK Erasure Repair Sample Example:\n"
          ]
        },
        {
          "data": {
            "image/png": "[encoded data removed]",
            "text/plain": [
              "<Figure size 432x288 with 1 Axes>"
            ]
          },
          "metadata": {
            "needs_background": "light"
          },
          "output_type": "display_data"
        }
      ],
      "source": [
        "'''\n",
        "Backdoor samples filtering and purification effect\n",
        "'''\n",
        "os.mkdir('./bk') \n",
        "os.mkdir('./res')\n",
        "os.mkdir('./coverbk')\n",
        "show_num = 0\n",
        "num = str(1)\n",
        "now_class_num = num\n",
        "with open(\"bk_path2label.txt\", \"w\") as f:\n",
        "    for i in range(504):\n",
        "        f.write(\"./cifar10_dataset/bk_data/\" + str(i+1)+\".png \"+num+\"\\n\")\n",
        "\n",
        "ax.spines['top'].set_visible(False)\n",
        "ax.spines['right'].set_visible(False)\n",
        "ax.spines['bottom'].set_visible(False)\n",
        "ax.spines['left'].set_visible(False)\n",
        "plt.axis('off')\n",
        "print('BK Sample Example:')\n",
        "path = './cifar10_dataset/bk_data/'+str(show_num+1)+'.png'\n",
        "img = Image.open(path).convert('RGB')\n",
        "img = img.resize((32 ,32))\n",
        "plt.imshow(img)\n",
        "plt.show()\n",
        "\n",
        "print('-'*10)\n",
        "print('')\n",
        "\n",
        "model = ResNet34(10)\n",
        "if torch.cuda.is_available():\n",
        "    model = model.cuda()\n",
        "model.load_state_dict(torch.load(model_addr))\n",
        "weight_n = model.wn.wn.data.cpu().numpy() \n",
        "weight_score = show_weight(weight_n)  \n",
        "x_raw, y_raw, attack_feature,err_num = getCAMdata(\"./bk_path2label.txt\", label=1, model=model)\n",
        "\n",
        "\n",
        "path = \"./bk_path2label.txt\"\n",
        "save_filepath = \"./coverbk/\"\n",
        "attack_details, attack_details_act, res_details_act_cam = getdetails_percent(attack_feature, weight_n, x_raw, y_raw,path,save_filepath,erase_method = 'repair',percent=threshold,target_label=False) \n",
        "\n",
        "ax.spines['top'].set_visible(False)\n",
        "ax.spines['right'].set_visible(False)\n",
        "ax.spines['bottom'].set_visible(False)\n",
        "ax.spines['left'].set_visible(False)\n",
        "plt.axis('off')\n",
        "print('BK Erasure Repair Sample Example:')\n",
        "path = './coverbk/'+str(show_num)+'.png'\n",
        "img = Image.open(path).convert('RGB')\n",
        "img = img.resize((32 ,32))\n",
        "plt.imshow(img)\n",
        "plt.show()\n",
        "print('-'*10)\n",
        "print('')\n",
        "\n",
        "true_label = 1\n",
        "num = str(1)\n",
        "bk_sample_sum=504\n",
        "with open(\"coverbk_path2label.txt\", \"w\") as f:\n",
        "    for i in range(504):\n",
        "        f.write(\"./coverbk/\" + str(i)+\".png \"+num+\"\\n\")\n",
        "\n",
        "\n",
        "\n",
        "coverbk_data = MyDataset(txt=\"./coverbk_path2label.txt\", \n",
        "              transform=transforms.Compose([\n",
        "                transforms.Resize([32,32]),\n",
        "                transforms.ToTensor(),\n",
        "                transforms.Normalize((0.5,0.5,0.5),(0.5,0.5,0.5))])\n",
        "              )\n",
        "\n",
        "coverbk_loader = DataLoader(coverbk_data, batch_size=50, shuffle=False)\n",
        "\n",
        "model = ResNet34(10)\n",
        "if torch.cuda.is_available():\n",
        "    model = model.cuda()\n",
        "model.load_state_dict(torch.load(model_addr))\n",
        "\n",
        "torch.manual_seed(1)\n",
        "model = model.eval()\n",
        "pred = np.array([])\n",
        "y_sum = np.array([])\n",
        "with torch.no_grad():\n",
        "    running_correct = 0\n",
        "    total = 0 \n",
        "\n",
        "    for x, label in coverbk_loader:\n",
        "        data = x\n",
        "        data = data.cuda()\n",
        "        y_label = label\n",
        "        y_label = y_label.type(torch.LongTensor)\n",
        "        y_label = y_label.cuda()\n",
        "        out,filter = model(data)\n",
        "        _, predicted = torch.max(out.data, 1)\n",
        "        total = total + y_label.size(0)\n",
        "        running_correct = running_correct + (predicted == y_label).sum()\n",
        "        predicted = predicted.cpu().numpy()\n",
        "        pred = np.append(pred, predicted)\n",
        "        y_sum = np.append(y_sum,y_label.cpu().numpy())\n",
        "\n",
        "    print('\\nBK FAR：%f%%' %(100 * running_correct / total))\n",
        "    pred = list(pred)\n",
        "    pass_num = [] \n",
        "    no_pass_num = []\n",
        "    for i in range(len(pred)):\n",
        "      if pred[i] == true_label:\n",
        "        pass_num.append(i)\n",
        "      else:\n",
        "        no_pass_num.append(i)\n",
        "\n",
        "bk_sample_pass = len(pass_num)\n",
        "bk_sample_nopass = len(no_pass_num)\n",
        "\n",
        "with open(\"./bk_path2label.txt\",'r') as f:\n",
        "  data = f.readlines()\n",
        "  sample_nums = len(data)\n",
        "  new_data = []\n",
        "  new_data_res = []\n",
        "  for i in range(len(data)):\n",
        "    data[i] = data[i].strip('\\n')\n",
        "    data[i] = data[i][:-2]\n",
        "    # print(data[i])\n",
        "    if i in pass_num:\n",
        "      new_data.append(data[i])\n",
        "    else:\n",
        "      new_data_res.append(data[i])\n",
        "origin_num = len(new_data)\n",
        "AE_num = len(new_data_res) \n",
        "\n",
        "for i in range(len(new_data)):\n",
        "  img = cv2.imread(new_data[i])\n",
        "  cv2.imwrite('./bk/bk_'+str(i)+'.png',img)\n",
        "\n",
        "for i in range(len(new_data_res)):\n",
        "  img = cv2.imread(new_data_res[i])\n",
        "  cv2.imwrite('./res/'+str(i)+'.png',img)\n",
        "\n",
        "num = str(now_class_num)\n",
        "with open(\"res_path2label.txt\", \"w\") as f:\n",
        "    for i in range(len(new_data_res)):\n",
        "        f.write(\"./res/\" + str(i)+\".png \"+num+\"\\n\")\n",
        "\n",
        "device = torch.device('cuda')\n",
        "AE_model = AE().to(device)\n",
        "AE_model.load_state_dict(torch.load(\"./try_AE/pkl/AE_model.pkl\"))\n",
        "UNet_model = UNet(n_channels=3, n_classes=3).to(device) \n",
        "UNet_model.load_state_dict(torch.load(\"./try_AE/pkl/UNet_model.pkl\"))\n",
        "\n",
        "AE_model = AE_model.cuda()\n",
        "UNet_model = UNet_model.cuda()\n",
        "res_data = MyDataset(txt=\"./res_path2label.txt\", \n",
        "              transform=transforms.Compose([\n",
        "                transforms.Resize([32,32]),\n",
        "                transforms.ToTensor()])\n",
        "              )\n",
        "res_loader = DataLoader(res_data, batch_size=40, shuffle=False)\n",
        "x,y = iter(res_loader).next()\n",
        "write_addr = './bk/'\n",
        "xuhao = 0\n",
        "\n",
        "with torch.no_grad():\n",
        "  for batchidx, (x, _) in enumerate(res_loader):\n",
        "    x = x.cuda()\n",
        "    out = AE_model(x)\n",
        "    out = out.cpu().numpy()\n",
        "    for i in range(out.shape[0]):\n",
        "      img = out[i]\n",
        "      img = img*255\n",
        "      img = img.transpose((1, 2, 0))  # chw -> hwc\n",
        "      img = img[:,:,::-1]\n",
        "      cv2.imwrite(write_addr+'bk_AE'+str(xuhao)+\".png\",img)\n",
        "      xuhao+=1\n",
        "print('-'*10)\n",
        "print('')      \n",
        "ax.spines['top'].set_visible(False)\n",
        "ax.spines['right'].set_visible(False)\n",
        "ax.spines['bottom'].set_visible(False)\n",
        "ax.spines['left'].set_visible(False)\n",
        "plt.axis('off')\n",
        "print('BK Erasure Repair Sample Example:')\n",
        "path = write_addr+'bk_AE'+str(show_num)+'.png'\n",
        "img = Image.open(path).convert('RGB')\n",
        "img = img.resize((32 ,32))\n",
        "plt.imshow(img)\n",
        "plt.show()\n"
      ]
    },
    {
      "cell_type": "markdown",
      "metadata": {
        "id": "lMCOzoxmFIuv"
      },
      "source": [
        "## Dataset filtering and purification effect"
      ]
    },
    {
      "cell_type": "code",
      "execution_count": null,
      "metadata": {
        "colab": {
          "base_uri": "https://localhost:8080/",
          "height": 1000
        },
        "id": "d4G8GTd_jVAD",
        "outputId": "4270a8ce-6a99-46b9-a3c8-7caf7c401c8d"
      },
      "outputs": [
        {
          "name": "stdout",
          "output_type": "stream",
          "text": [
            "Class0:\n",
            "Class0 Erasure Repair Sample Example:\n"
          ]
        },
        {
          "data": {
            "image/png": "[encoded data removed]",
            "text/plain": [
              "<Figure size 432x288 with 1 Axes>"
            ]
          },
          "metadata": {
            "needs_background": "light"
          },
          "output_type": "display_data"
        },
        {
          "name": "stdout",
          "output_type": "stream",
          "text": [
            "Class0 EXPAND√\n",
            "class0 TAR： 0.9636699676375404\n",
            "class0 Purification completed\n",
            "class0 Purified Sample Example:\n"
          ]
        },
        {
          "data": {
            "image/png": "[encoded data removed]",
            "text/plain": [
              "<Figure size 432x288 with 1 Axes>"
            ]
          },
          "metadata": {
            "needs_background": "light"
          },
          "output_type": "display_data"
        },
        {
          "name": "stdout",
          "output_type": "stream",
          "text": [
            "----------\n",
            "\n",
            "\n",
            "Class1:\n",
            "Class1 Erasure Repair Sample Example:\n"
          ]
        },
        {
          "data": {
            "image/png": "[encoded data removed]",
            "text/plain": [
              "<Figure size 432x288 with 1 Axes>"
            ]
          },
          "metadata": {
            "needs_background": "light"
          },
          "output_type": "display_data"
        },
        {
          "name": "stdout",
          "output_type": "stream",
          "text": [
            "Class1suspicious and do not expand.\n",
            "class1 TAR： 0.7304799999999999\n",
            "class1 Purification completed\n",
            "class1 Purified Sample Example:\n"
          ]
        },
        {
          "data": {
            "image/png": "[encoded data removed]",
            "text/plain": [
              "<Figure size 432x288 with 1 Axes>"
            ]
          },
          "metadata": {
            "needs_background": "light"
          },
          "output_type": "display_data"
        },
        {
          "name": "stdout",
          "output_type": "stream",
          "text": [
            "----------\n",
            "\n",
            "\n",
            "Class2:\n",
            "Class2 Erasure Repair Sample Example:\n"
          ]
        },
        {
          "data": {
            "image/png": "[encoded data removed]",
            "text/plain": [
              "<Figure size 432x288 with 1 Axes>"
            ]
          },
          "metadata": {
            "needs_background": "light"
          },
          "output_type": "display_data"
        },
        {
          "name": "stdout",
          "output_type": "stream",
          "text": [
            "Class2 EXPAND√\n",
            "class2 TAR： 0.9387913268608413\n",
            "class2 Purification completed\n",
            "class2 Purified Sample Example:\n"
          ]
        },
        {
          "data": {
            "image/png": "[encoded data removed]",
            "text/plain": [
              "<Figure size 432x288 with 1 Axes>"
            ]
          },
          "metadata": {
            "needs_background": "light"
          },
          "output_type": "display_data"
        },
        {
          "name": "stdout",
          "output_type": "stream",
          "text": [
            "----------\n",
            "\n",
            "\n",
            "Class3:\n",
            "Class3 Erasure Repair Sample Example:\n"
          ]
        },
        {
          "data": {
            "image/png": "[encoded data removed]",
            "text/plain": [
              "<Figure size 432x288 with 1 Axes>"
            ]
          },
          "metadata": {
            "needs_background": "light"
          },
          "output_type": "display_data"
        },
        {
          "name": "stdout",
          "output_type": "stream",
          "text": [
            "Class3 EXPAND√\n",
            "class3 TAR： 0.9600291909385112\n",
            "class3 Purification completed\n",
            "class3 Purified Sample Example:\n"
          ]
        },
        {
          "data": {
            "image/png": "[encoded data removed]",
            "text/plain": [
              "<Figure size 432x288 with 1 Axes>"
            ]
          },
          "metadata": {
            "needs_background": "light"
          },
          "output_type": "display_data"
        },
        {
          "name": "stdout",
          "output_type": "stream",
          "text": [
            "----------\n",
            "\n",
            "\n",
            "Class4:\n",
            "Class4 Erasure Repair Sample Example:\n"
          ]
        },
        {
          "data": {
            "image/png": "[encoded data removed]",
            "text/plain": [
              "<Figure size 432x288 with 1 Axes>"
            ]
          },
          "metadata": {
            "needs_background": "light"
          },
          "output_type": "display_data"
        },
        {
          "name": "stdout",
          "output_type": "stream",
          "text": [
            "Class4 EXPAND√\n",
            "class4 TAR： 0.927868996763754\n",
            "class4 Purification completed\n",
            "class4 Purified Sample Example:\n"
          ]
        },
        {
          "data": {
            "image/png": "[encoded data removed]",
            "text/plain": [
              "<Figure size 432x288 with 1 Axes>"
            ]
          },
          "metadata": {
            "needs_background": "light"
          },
          "output_type": "display_data"
        },
        {
          "name": "stdout",
          "output_type": "stream",
          "text": [
            "----------\n",
            "\n",
            "\n",
            "Class5:\n",
            "Class5 Erasure Repair Sample Example:\n"
          ]
        },
        {
          "data": {
            "image/png": "[encoded data removed]",
            "text/plain": [
              "<Figure size 432x288 with 1 Axes>"
            ]
          },
          "metadata": {
            "needs_background": "light"
          },
          "output_type": "display_data"
        },
        {
          "name": "stdout",
          "output_type": "stream",
          "text": [
            "Class5 EXPAND√\n",
            "class5 TAR： 0.9596246601941747\n",
            "class5 Purification completed\n",
            "class5 Purified Sample Example:\n"
          ]
        },
        {
          "data": {
            "image/png": "[encoded data removed]",
            "text/plain": [
              "<Figure size 432x288 with 1 Axes>"
            ]
          },
          "metadata": {
            "needs_background": "light"
          },
          "output_type": "display_data"
        },
        {
          "name": "stdout",
          "output_type": "stream",
          "text": [
            "----------\n",
            "\n",
            "\n",
            "Class6:\n",
            "Class6 Erasure Repair Sample Example:\n"
          ]
        },
        {
          "data": {
            "image/png": "[encoded data removed]",
            "text/plain": [
              "<Figure size 432x288 with 1 Axes>"
            ]
          },
          "metadata": {
            "needs_background": "light"
          },
          "output_type": "display_data"
        },
        {
          "name": "stdout",
          "output_type": "stream",
          "text": [
            "Class6 EXPAND√\n",
            "class6 TAR： 0.8750777346278317\n",
            "class6 Purification completed\n",
            "class6 Purified Sample Example:\n"
          ]
        },
        {
          "data": {
            "image/png": "[encoded data removed]",
            "text/plain": [
              "<Figure size 432x288 with 1 Axes>"
            ]
          },
          "metadata": {
            "needs_background": "light"
          },
          "output_type": "display_data"
        },
        {
          "name": "stdout",
          "output_type": "stream",
          "text": [
            "----------\n",
            "\n",
            "\n",
            "Class7:\n",
            "Class7 Erasure Repair Sample Example:\n"
          ]
        },
        {
          "data": {
            "image/png": "[encoded data removed]",
            "text/plain": [
              "<Figure size 432x288 with 1 Axes>"
            ]
          },
          "metadata": {
            "needs_background": "light"
          },
          "output_type": "display_data"
        },
        {
          "name": "stdout",
          "output_type": "stream",
          "text": [
            "Class7 EXPAND√\n",
            "class7 TAR： 0.9292848543689319\n",
            "class7 Purification completed\n",
            "class7 Purified Sample Example:\n"
          ]
        },
        {
          "data": {
            "image/png": "[encoded data removed]",
            "text/plain": [
              "<Figure size 432x288 with 1 Axes>"
            ]
          },
          "metadata": {
            "needs_background": "light"
          },
          "output_type": "display_data"
        },
        {
          "name": "stdout",
          "output_type": "stream",
          "text": [
            "----------\n",
            "\n",
            "\n",
            "Class8:\n",
            "Class8 Erasure Repair Sample Example:\n"
          ]
        },
        {
          "data": {
            "image/png": "[encoded data removed]",
            "text/plain": [
              "<Figure size 432x288 with 1 Axes>"
            ]
          },
          "metadata": {
            "needs_background": "light"
          },
          "output_type": "display_data"
        },
        {
          "name": "stdout",
          "output_type": "stream",
          "text": [
            "Class8 EXPAND√\n",
            "class8 TAR： 0.946275145631068\n",
            "class8 Purification completed\n",
            "class8 Purified Sample Example:\n"
          ]
        },
        {
          "data": {
            "image/png": "[encoded data removed]",
            "text/plain": [
              "<Figure size 432x288 with 1 Axes>"
            ]
          },
          "metadata": {
            "needs_background": "light"
          },
          "output_type": "display_data"
        },
        {
          "name": "stdout",
          "output_type": "stream",
          "text": [
            "----------\n",
            "\n",
            "\n",
            "Class9:\n",
            "Class9 Erasure Repair Sample Example:\n"
          ]
        },
        {
          "data": {
            "image/png": "[encoded data removed]",
            "text/plain": [
              "<Figure size 432x288 with 1 Axes>"
            ]
          },
          "metadata": {
            "needs_background": "light"
          },
          "output_type": "display_data"
        },
        {
          "name": "stdout",
          "output_type": "stream",
          "text": [
            "Class9 EXPAND√\n",
            "class9 TAR： 0.8948997411003236\n",
            "class9 Purification completed\n",
            "class9 Purified Sample Example:\n"
          ]
        },
        {
          "data": {
            "image/png": "[encoded data removed]",
            "text/plain": [
              "<Figure size 432x288 with 1 Axes>"
            ]
          },
          "metadata": {
            "needs_background": "light"
          },
          "output_type": "display_data"
        },
        {
          "name": "stdout",
          "output_type": "stream",
          "text": [
            "----------\n",
            "\n",
            "\n"
          ]
        }
      ],
      "source": [
        "'''\n",
        "Dataset filtering and purification effect. \n",
        "(Class1 is injected with backdoor samples.)\n",
        "'''\n",
        "for k in range(10):\n",
        "  os.mkdir('./cover'+str(i))\n",
        "  os.mkdir('./'+str(i)) \n",
        "for k in range(10):\n",
        "  print('Class'+str(k)+':')\n",
        "  shutil.rmtree(\"./res\") \n",
        "  shutil.rmtree(\"./AE_sample\") \n",
        "  os.mkdir(\"./res\")\n",
        "  os.mkdir(\"./AE_sample\")\n",
        "  now_class_num = str(k)\n",
        "\n",
        "with open(\"try_path2label.txt\", \"w\") as f:\n",
        "  for imagename in os.listdir('./cifar10_dataset/train_bk/'+now_class_num):\n",
        "    dst = './cifar10_dataset/train/'+now_class_num + '/' + imagename\n",
        "    f.write(dst +\" \"+now_class_num+\"\\n\")\n",
        "\n",
        "\n",
        "  model = ResNet34(10)\n",
        "  if torch.cuda.is_available():\n",
        "      model = model.cuda()\n",
        "  model.load_state_dict(torch.load(model_addr))\n",
        "  weight_n = model.wn.wn.data.cpu().numpy()  \n",
        "  weight_score = show_weight(weight_n) \n",
        "  x_raw, y_raw, attack_feature,err_num = getCAMdata(\"./try_path2label.txt\", label=int(now_class_num), model=model) \n",
        "\n",
        "  print('Class' + now_class_num + ' Erasure Repair Sample Example:')\n",
        "  path = \"./try_path2label.txt\"\n",
        "  save_filepath = \"./cover\"+now_class_num+\"/\"\n",
        "  attack_details, attack_details_act, res_details_act_cam = getdetails_percent(attack_feature, weight_n, x_raw, y_raw,path,save_filepath,erase_method = 'repair',percent=threshold,target_label=False) \n",
        "  shutil.move(\"./cover\"+now_class_num+\"/\" , cover_dest_directory)\n",
        "  fig, ax=plt.subplots()\n",
        "  ax.spines['top'].set_visible(False)\n",
        "  ax.spines['right'].set_visible(False)\n",
        "  ax.spines['bottom'].set_visible(False)\n",
        "  ax.spines['left'].set_visible(False)\n",
        "  plt.axis('off')\n",
        "  path = cover_dest_directory+'cover'+now_class_num+'/0.png'\n",
        "  img = Image.open(path).convert('RGB')\n",
        "  img = img.resize((32 ,32))\n",
        "  plt.imshow(img)\n",
        "  plt.show()\n",
        "\n",
        "  with open(\"cover_path2label.txt\", \"w\") as f:\n",
        "      for imagename in os.listdir('./cover_data/cover'+now_class_num):\n",
        "        dst = './cover_data/cover'+now_class_num + '/' + imagename\n",
        "        f.write(dst +\" \"+now_class_num+\"\\n\")\n",
        "\n",
        "  cover_data = MyDataset(txt='./cover_path2label.txt', transform=transforms.Compose([\n",
        "              transforms.Resize([32,32]),\n",
        "              transforms.ToTensor(),\n",
        "              transforms.Normalize((0.5,0.5,0.5),(0.5,0.5,0.5))])\n",
        "            )\n",
        "  cover_loader = DataLoader(cover_data, batch_size=50, shuffle=False)\n",
        "  true_label = int(now_class_num)\n",
        "  model = ResNet34(10)\n",
        "  if torch.cuda.is_available():\n",
        "      model = model.cuda()\n",
        "  model.load_state_dict(torch.load(model_addr))\n",
        "\n",
        "  torch.manual_seed(1)\n",
        "  model = model.eval()\n",
        "  pred = np.array([])\n",
        "  y_sum = np.array([])\n",
        "\n",
        "  with torch.no_grad():\n",
        "      running_correct = 0  \n",
        "      total = 0  \n",
        "      for x, label in cover_loader:\n",
        "          data = x\n",
        "          data = data.cuda()\n",
        "          y_label = label\n",
        "          y_label = y_label.type(torch.LongTensor)\n",
        "          y_label = y_label.cuda()\n",
        "          out,filter = model(data)\n",
        "          _, predicted = torch.max(out.data, 1)\n",
        "          total = total + y_label.size(0)\n",
        "          running_correct = running_correct + (predicted == y_label).sum()\n",
        "          predicted = predicted.cpu().numpy()\n",
        "          pred = np.append(pred, predicted)\n",
        "          y_sum = np.append(y_sum,y_label.cpu().numpy())\n",
        "      pred = list(pred)\n",
        "      pass_num = []\n",
        "      no_pass_num = []\n",
        "      for i in range(len(pred)):\n",
        "        if pred[i] == true_label:\n",
        "          pass_num.append(i)\n",
        "        else:\n",
        "          no_pass_num.append(i)\n",
        "  j=0\n",
        "  if err_num!=[]:\n",
        "    for i in range(len(pass_num)-1):\n",
        "      if err_num[j]>pass_num[i] and err_num[j]<pass_num[i+1]:\n",
        "        pass_num.insert(i+1,err_num[j])\n",
        "        j+=1\n",
        "      elif err_num[j]==pass_num[i]:\n",
        "        j+=1\n",
        "      if j == len(err_num):\n",
        "        break\n",
        "\n",
        "  device = torch.device('cuda')\n",
        "  AE_model = AE().to(device)\n",
        "  AE_model.load_state_dict(torch.load(\"./try_AE/pkl/AE_model.pkl\"))\n",
        "  UNet_model = UNet(n_channels=3, n_classes=3).to(device) \n",
        "  UNet_model.load_state_dict(torch.load(\"./try_AE/pkl/UNet_model.pkl\"))\n",
        "  UNet_model2 = UNet(n_channels=3, n_classes=3).to(device) \n",
        "  UNet_model2.load_state_dict(torch.load(\"./try_AE/pkl/UNet_model2.pkl\"))\n",
        "  AE_model = AE_model.to(device)\n",
        "  UNet_model, UNet_model2 = UNet_model.to(device), UNet_model2.to(device)\n",
        "  res_data = MyDataset(txt=\"./try_path2label.txt\", \n",
        "                transform=transforms.Compose([\n",
        "                  transforms.Resize([32,32]),\n",
        "                  transforms.ToTensor()])\n",
        "                )\n",
        "\n",
        "  res_loader = DataLoader(res_data, batch_size=50, shuffle=False)\n",
        "  x,y = iter(res_loader).next()\n",
        "  write_addr = './AE_sample/'\n",
        "  xuhao = 0\n",
        "\n",
        "  with torch.no_grad():\n",
        "    for batchidx, (x, _) in enumerate(res_loader):\n",
        "      x = x.cuda()\n",
        "      x1 = AE_model(x)\n",
        "      out = UNet_model(x1)\n",
        "      out = out.cpu().numpy()\n",
        "      for i in range(out.shape[0]):\n",
        "        img = out[i]\n",
        "        img = img*255\n",
        "        img = img.transpose((1, 2, 0))  # chw -> hwc\n",
        "        img = img[:,:,::-1]\n",
        "        cv2.imwrite(write_addr+'AE'+str(xuhao)+\".png\",img)\n",
        "        xuhao+=1\n",
        "\n",
        "  num = now_class_num\n",
        "  for root, dirs, files in os.walk(r\"./AE_sample\"):\n",
        "      with open(\"tryAE_path2label.txt\", \"w\") as f:\n",
        "          for i in range(len(files)):\n",
        "              f.write(\"./AE_sample/AE\" + str(i)+\".png \"+num+\"\\n\")\n",
        "  model = ResNet34(10)\n",
        "\n",
        "  if torch.cuda.is_available():\n",
        "      model = model.cuda()\n",
        "  model.load_state_dict(torch.load(model_addr))\n",
        "  weight_n = model.wn.wn.data.cpu().numpy() \n",
        "  weight_score = show_weight(weight_n) \n",
        "  x_raw, y_raw, attack_feature,AE_err_num = getCAMdata(\"./tryAE_path2label.txt\", label=int(now_class_num), model=model) \n",
        "\n",
        "  AE_num = []\n",
        "  for i in range(attack_feature.shape[0]):\n",
        "    if i not in AE_err_num:\n",
        "      AE_num.append(i)\n",
        "\n",
        "\n",
        "  count_AE =0\n",
        "  for i in range(len(no_pass_num)):\n",
        "    if no_pass_num[i] in AE_num:\n",
        "      count_AE+=1\n",
        "\n",
        "  if k != target_label:\n",
        "    if ((len(AE_num)-count_AE)/len(pass_num))-(count_AE/len(no_pass_num)) < AE_threshold:\n",
        "      print('Class'+ now_class_num + ' EXPAND√')\n",
        "      pass_num = list(set(pass_num).union(set(AE_num)))\n",
        "  else:\n",
        "    if ((len(AE_num)-count_AE)/len(pass_num))-((count_AE+bk_sample_pass)/(len(no_pass_num)+bk_sample_nopass)) < AE_threshold:\n",
        "      print('Class'+ now_class_num + ' EXPAND√')\n",
        "      pass_num = list(set(pass_num).union(set(AE_num)))\n",
        "    else:\n",
        "      print('Class'+ now_class_num + 'suspicious and do not expand.')\n",
        "\n",
        "  print('class'+ now_class_num + ' TAR：',len(pass_num)/attack_feature.shape[0] )\n",
        "  total_TAR += len(pass_num)/attack_feature.shape[0]\n",
        "  TAR = len(pass_num)/attack_feature.shape[0]\n",
        "\n",
        "  with open('./try_path2label.txt','r') as f:\n",
        "    data = f.readlines()\n",
        "    sample_nums = len(data)\n",
        "    new_data = []\n",
        "    new_data_res = []\n",
        "    for i in range(len(data)):\n",
        "      data[i] = data[i].strip('\\n')\n",
        "      data[i] = data[i][:-2]\n",
        "      if i in pass_num:\n",
        "        new_data.append(data[i])\n",
        "      else:\n",
        "        new_data_res.append(data[i])\n",
        "\n",
        "  for i in range(len(new_data)):\n",
        "    img = cv2.imread(new_data[i])\n",
        "    cv2.imwrite('./new/'+str(i)+'.png',img)\n",
        "\n",
        "  with open(\"new_path2label.txt\", \"w\") as f:\n",
        "      for i in range(len(new_data)):\n",
        "          f.write(\"./new/\" +\n",
        "                  str(i)+\".png \"+now_class_num+\"\\n\")\n",
        "\n",
        "  n_data = MyDataset(txt=\"./new_path2label.txt\", \n",
        "                transform=transforms.Compose([\n",
        "                  transforms.Resize([32,32]),\n",
        "                  transforms.ToTensor()])\n",
        "                )\n",
        "\n",
        "  n_loader = DataLoader(n_data, batch_size=50, shuffle=False)\n",
        "  write_addr = './'+str(now_class_num)+'/'\n",
        "  xuhao = 0\n",
        "\n",
        "  with torch.no_grad():\n",
        "    for batchidx, (x, _) in enumerate(n_loader):\n",
        "      x = x.cuda()\n",
        "      out = UNet_model2(x)\n",
        "      out = out.cpu().numpy()\n",
        "      \n",
        "      for i in range(out.shape[0]):\n",
        "        img = out[i]\n",
        "        img = img*255\n",
        "        img = img.transpose((1, 2, 0))  # chw -> hwc\n",
        "        img = img[:,:,::-1]\n",
        "        cv2.imwrite(write_addr+'n'+str(xuhao)+\".png\",img)\n",
        "        xuhao+=1\n",
        "\n",
        "  for i in range(len(new_data_res)):\n",
        "    img = cv2.imread(new_data_res[i])\n",
        "    cv2.imwrite('./res/'+str(i)+'.png',img)\n",
        "\n",
        "  with open(\"res_path2label.txt\", \"w\") as f:\n",
        "      for i in range(len(new_data_res)):\n",
        "          f.write(\"./res/\" +\n",
        "                  str(i)+\".png \"+now_class_num+\"\\n\")\n",
        "\n",
        "  res_data = MyDataset(txt=\"./res_path2label.txt\", \n",
        "                transform=transforms.Compose([\n",
        "                  transforms.Resize([32,32]),\n",
        "                  transforms.ToTensor()])\n",
        "                )\n",
        "\n",
        "  res_loader = DataLoader(res_data, batch_size=50, shuffle=False)\n",
        "  write_addr = './'+str(now_class_num)+'/'\n",
        "  xuhao = 0\n",
        "\n",
        "  with torch.no_grad():\n",
        "    for batchidx, (x, _) in enumerate(res_loader):\n",
        "      x = x.cuda()\n",
        "      x1 = AE_model(x)\n",
        "      out = UNet_model(x1)\n",
        "      out = out.cpu().numpy()\n",
        "      \n",
        "      for i in range(out.shape[0]):\n",
        "        img = out[i]\n",
        "        img = img*255\n",
        "        img = img.transpose((1, 2, 0))  # chw -> hwc\n",
        "        img = img[:,:,::-1]\n",
        "        cv2.imwrite(write_addr+'AE'+str(xuhao)+\".png\",img)\n",
        "        xuhao+=1\n",
        "  print('class' + now_class_num+' Purification completed')\n",
        "\n",
        "  print('class'+ now_class_num + ' Purified Sample Example:')\n",
        "  path = './'+str(now_class_num)+'/AE1.png'\n",
        "  fig, ax=plt.subplots()\n",
        "  ax.spines['top'].set_visible(False)\n",
        "  ax.spines['right'].set_visible(False)\n",
        "  ax.spines['bottom'].set_visible(False)\n",
        "  ax.spines['left'].set_visible(False)\n",
        "  plt.axis('off')\n",
        "  img = Image.open(path).convert('RGB')\n",
        "  img = img.resize((32 ,32))\n",
        "  plt.imshow(img)\n",
        "  plt.show()\n",
        "\n",
        "  import shutil\n",
        "  shutil.move('./'+ str(now_class_num) +'/' , final_dest_directory)\n",
        "  print('-'*10)\n",
        "  print('\\n')"
      ]
    },
    {
      "cell_type": "code",
      "execution_count": null,
      "metadata": {
        "colab": {
          "base_uri": "https://localhost:8080/"
        },
        "id": "3ZiYMg_jznAU",
        "outputId": "21702170-4d99-4b56-ec78-f2d4e058f858"
      },
      "outputs": [
        {
          "name": "stdout",
          "output_type": "stream",
          "text": [
            "TAR: 0.9126001618122975\n"
          ]
        }
      ],
      "source": [
        "print('TAR:',(total_TAR)/10)"
      ]
    }
  ],
  "metadata": {
    "accelerator": "GPU",
    "colab": {
      "collapsed_sections": [
        "GhB_7421CP6u",
        "2SzK-3AdT9yJ",
        "K4GAX4SXEJEF",
        "rBMZ21OsUPhZ",
        "lMCOzoxmFIuv"
      ],
      "name": "DFaP_Demo.ipynb",
      "provenance": []
    },
    "kernelspec": {
      "display_name": "Python 3",
      "name": "python3"
    },
    "language_info": {
      "name": "python"
    }
  },
  "nbformat": 4,
  "nbformat_minor": 0
}
